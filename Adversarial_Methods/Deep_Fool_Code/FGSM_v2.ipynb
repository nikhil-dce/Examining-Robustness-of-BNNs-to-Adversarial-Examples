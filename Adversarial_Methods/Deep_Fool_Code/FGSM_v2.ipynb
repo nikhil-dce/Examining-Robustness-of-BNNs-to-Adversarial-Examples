{
 "cells": [
  {
   "cell_type": "code",
   "execution_count": 1,
   "metadata": {},
   "outputs": [],
   "source": [
    "import torch.nn as nn\n",
    "import torch.nn.functional as F\n",
    "import torchvision\n",
    "import torchvision.transforms as transforms\n",
    "import numpy as np\n",
    "import matplotlib.pyplot as plt\n",
    "import torch\n",
    "import torch.optim as optim\n",
    "import torch.utils.data as data_utils\n",
    "from torch.autograd import Variable\n",
    "import torchvision.datasets as dsets\n",
    "import math\n",
    "import torchvision.models as models\n",
    "from PIL import Image\n",
    "from deepfool import deepfool\n",
    "import os,sys\n",
    "from FGSM import fgsm,fgsm_graybox\n",
    "from train_mnist_model import Net\n",
    "from tqdm import tqdm\n",
    "from torch.distributions.categorical import Categorical\n",
    "\n",
    "homedir = '/home/nikhil/research/Examining-Robustness-of-BNNs-to-Adversarial-Examples/'\n",
    "# homedir = '/home/serge/Documents/Classes/Adversarial_ML/Examining-Robustness-of-BNNs-to-Adversarial-Examples/'\n",
    "MODULE_PATH = ['{}BNN_Implementations/PyTorch-BayesianCNN-master'.format(homedir),\n",
    "          '{}BNN_Implementations/PyTorch-BayesianCNN-master/models/BayesianModels'.format(homedir)]\n",
    "\n",
    "for m in MODULE_PATH:\n",
    "    sys.path.append(m)\n",
    "\n",
    "import data\n",
    "from BayesianLeNet import BBBLeNet\n",
    "import metrics\n",
    "from utils import *\n",
    "# from models.NonBayesianModels.LeNet import LeNet"
   ]
  },
  {
   "cell_type": "code",
   "execution_count": 2,
   "metadata": {},
   "outputs": [],
   "source": [
    "def conv_init(m):\n",
    "    classname = m.__class__.__name__\n",
    "    if classname.find('Conv') != -1:\n",
    "        #nn.init.xavier_uniform(m.weight, gain=np.sqrt(2))\n",
    "        nn.init.normal_(m.weight, mean=0, std=1)\n",
    "        nn.init.constant(m.bias, 0)\n",
    "\n",
    "class LeNet(nn.Module):\n",
    "    def __init__(self, num_classes, inputs=3):\n",
    "        super(LeNet, self).__init__()\n",
    "        self.conv1 = nn.Conv2d(inputs, 6, 5)\n",
    "        self.conv2 = nn.Conv2d(6, 16, 5)\n",
    "        self.fc1   = nn.Linear(16*5*5, 120)\n",
    "        self.fc2   = nn.Linear(120, 84)\n",
    "        self.fc3   = nn.Linear(84, num_classes)\n",
    "\n",
    "    def forward(self, x):\n",
    "        out = F.relu(self.conv1(x))\n",
    "        out = F.max_pool2d(out, 2)\n",
    "        out = F.relu(self.conv2(out))\n",
    "        out = F.max_pool2d(out, 2)\n",
    "        out = out.view(out.size(0), -1)\n",
    "        out = F.relu(self.fc1(out))\n",
    "        out = F.relu(self.fc2(out))\n",
    "        out = self.fc3(out)\n",
    "\n",
    "        return(out)"
   ]
  },
  {
   "cell_type": "code",
   "execution_count": 3,
   "metadata": {},
   "outputs": [
    {
     "name": "stdout",
     "output_type": "stream",
     "text": [
      "env: CUDA_DEVICE_ORDER=PCI_BUS_ID\n",
      "env: CUDA_VISIBLE_DEVICES=0\n"
     ]
    }
   ],
   "source": [
    "%env CUDA_DEVICE_ORDER=PCI_BUS_ID\n",
    "%env CUDA_VISIBLE_DEVICES=0"
   ]
  },
  {
   "cell_type": "code",
   "execution_count": 4,
   "metadata": {},
   "outputs": [],
   "source": [
    "dataset = 'MNIST'\n",
    "batch_size=1000\n",
    "valid_size = 0.2 # will not be used \n",
    "num_workers = 0\n",
    "\n",
    "trainset, testset, inputs, outputs = data.getDataset(dataset)\n",
    "train_loader, valid_loader, test_loader = data.getDataloader(trainset, testset, valid_size, \n",
    "                                                             batch_size, num_workers)\n"
   ]
  },
  {
   "cell_type": "code",
   "execution_count": 5,
   "metadata": {},
   "outputs": [],
   "source": [
    "def bayes_marginalization(net, inputs, J=10):\n",
    "    \n",
    "    outputs = torch.zeros(inputs.shape[0], net.num_classes, J).to(device)\n",
    "    kl = 0.0\n",
    "\n",
    "    for j in range(J):\n",
    "        net_out, _kl = net(inputs)\n",
    "        kl += _kl\n",
    "        outputs[:, :, j] = F.log_softmax(net_out, dim=1).data\n",
    "    \n",
    "    log_outputs = logmeanexp(outputs, dim=2)\n",
    "    return log_outputs, kl\n",
    "\n",
    "def bayes_evaluation(net, criterion, validloader, num_ens=100):\n",
    "    \"\"\"Calculate ensemble accuracy and NLL Loss\"\"\"\n",
    "\n",
    "    net.train(True)\n",
    "    \n",
    "    valid_loss = 0.0\n",
    "    accs = []\n",
    "\n",
    "    for i, (inputs, labels) in enumerate(validloader):\n",
    "        inputs, labels = inputs.to(device), labels.to(device)\n",
    "                \n",
    "        log_outputs, kl = bayes_marginalization(net, inputs, num_ens)\n",
    "        valid_loss += criterion(log_outputs, labels, kl).item()\n",
    "        accs.append(metrics.acc(log_outputs, labels))\n",
    "\n",
    "    return valid_loss/len(validloader), np.mean(accs)\n",
    "\n",
    "def frequentist_evaluation(net, criterion, valid_loader):\n",
    "    \n",
    "    valid_loss = 0.0\n",
    "    accs = []\n",
    "    net.eval()\n",
    "    for data, target in valid_loader:\n",
    "        data, target = data.to(device), target.to(device)\n",
    "        output = net(data)\n",
    "        loss = criterion(output, target)\n",
    "        valid_loss += loss.item()*data.size(0)\n",
    "        accs.append(metrics.acc(output.data, target))\n",
    "\n",
    "    return valid_loss, accs"
   ]
  },
  {
   "cell_type": "code",
   "execution_count": 6,
   "metadata": {},
   "outputs": [],
   "source": [
    "def attack_fgsm(model,loss,eps,device,loader,is_bayes=False):\n",
    "    original_preds_soft = []\n",
    "    attack_preds_soft = []\n",
    "    \n",
    "    for batch_idx, (images, labels) in enumerate(loader):\n",
    "        \n",
    "        attack_images = fgsm(model=model,loss=loss,device=device,images=images,labels=labels,eps=eps,is_bayes=is_bayes)\n",
    "        \n",
    "        if is_bayes:\n",
    "            original_preds_soft.append(model(images.to(device))[0].detach())\n",
    "            attack_preds_soft.append(model(attack_images)[0].detach())\n",
    "        else:\n",
    "            original_preds_soft.append(model(images.to(device)).detach())\n",
    "            attack_preds_soft.append(model(attack_images).detach())\n",
    "        \n",
    "    original_preds_soft = torch.cat(original_preds_soft, dim=0)\n",
    "    attack_preds_soft = torch.cat(attack_preds_soft,dim=0)\n",
    "    original_preds = torch.argmax(original_preds_soft,axis=1)\n",
    "    attack_preds = torch.argmax(attack_preds_soft,axis=1)\n",
    "    \n",
    "    success_rate = torch.mean((original_preds!=attack_preds).type(torch.DoubleTensor)).cpu().detach().numpy()\n",
    "    entropy = np.mean(Categorical(probs = F.softmax(attack_preds_soft,dim=0)).entropy().cpu().detach().numpy())\n",
    "    \n",
    "    return success_rate,entropy"
   ]
  },
  {
   "cell_type": "code",
   "execution_count": 7,
   "metadata": {},
   "outputs": [],
   "source": [
    "def attack_fgsm_v2 (model,loss,eps,device,loader,is_bayes=False):\n",
    "    \n",
    "    attack_preds_soft = []\n",
    "    attack_acc = []\n",
    "    \n",
    "    for batch_idx, (images, labels) in enumerate(loader):\n",
    "        \n",
    "        attack_images = fgsm(model=model,loss=loss,device=device,images=images,labels=labels,eps=eps,is_bayes=is_bayes)\n",
    "        \n",
    "        if is_bayes:\n",
    "            log_outputs, _ = bayes_marginalization(model, attack_images, J=100)\n",
    "            attack_preds_soft.append(log_outputs)\n",
    "            attack_acc.append(metrics.acc(log_outputs, labels))\n",
    "        else:\n",
    "            outputs = model(attack_images).detach()\n",
    "            attack_preds_soft.append(outputs)\n",
    "            attack_acc.append(metrics.acc(outputs, labels))\n",
    "\n",
    "    attack_preds_soft = torch.cat(attack_preds_soft,dim=0)\n",
    "    attack_preds = torch.argmax(attack_preds_soft,axis=1)\n",
    "\n",
    "    if is_bayes:\n",
    "        entropy = np.mean(Categorical(probs = torch.exp(attack_preds_soft)).entropy().cpu().detach().numpy())\n",
    "    else:\n",
    "        entropy = np.mean(Categorical(probs = F.softmax(attack_preds_soft,dim=0)).entropy().cpu().detach().numpy())\n",
    "    \n",
    "    return np.mean(attack_acc), entropy\n"
   ]
  },
  {
   "cell_type": "markdown",
   "metadata": {},
   "source": [
    "# Example attack on a non-Bayes CNN (MNIST)"
   ]
  },
  {
   "cell_type": "code",
   "execution_count": 8,
   "metadata": {},
   "outputs": [],
   "source": [
    "model = LeNet(num_classes=10,inputs=1)\n",
    "ckpt_path = '../../BNN_Implementations/PyTorch-BayesianCNN-master/checkpoints/MNIST/frequentist/model_lenet.pt'\n",
    "model.load_state_dict(torch.load(ckpt_path))\n",
    "model.eval()\n",
    "device = torch.device('cuda:0')\n",
    "model.to(device)\n",
    "loss = nn.CrossEntropyLoss()"
   ]
  },
  {
   "cell_type": "code",
   "execution_count": 9,
   "metadata": {},
   "outputs": [],
   "source": [
    "original_loss, original_acc = frequentist_evaluation(model, loss, test_loader)"
   ]
  },
  {
   "cell_type": "code",
   "execution_count": 10,
   "metadata": {},
   "outputs": [
    {
     "name": "stdout",
     "output_type": "stream",
     "text": [
      "0.9776999999999999\n"
     ]
    }
   ],
   "source": [
    "print (np.mean(original_acc))"
   ]
  },
  {
   "cell_type": "code",
   "execution_count": 12,
   "metadata": {},
   "outputs": [
    {
     "name": "stderr",
     "output_type": "stream",
     "text": [
      "100%|██████████| 20/20 [00:34<00:00,  1.70s/it]\n"
     ]
    }
   ],
   "source": [
    "epsilons = np.linspace(0,0.5,20)\n",
    "acc = []\n",
    "entropies = []\n",
    "for eps in tqdm(epsilons):\n",
    "    success_rate,entropy = attack_fgsm_v2(model,loss,eps,device,test_loader)\n",
    "    acc.append(success_rate)\n",
    "    entropies.append(entropy)"
   ]
  },
  {
   "cell_type": "code",
   "execution_count": 14,
   "metadata": {},
   "outputs": [
    {
     "data": {
      "text/plain": [
       "Text(0, 0.5, 'Average predictive entropy')"
      ]
     },
     "execution_count": 14,
     "metadata": {},
     "output_type": "execute_result"
    },
    {
     "data": {
      "image/png": "[encoded data removed]",
      "text/plain": [
       "<Figure size 720x360 with 2 Axes>"
      ]
     },
     "metadata": {
      "needs_background": "light"
     },
     "output_type": "display_data"
    }
   ],
   "source": [
    "plt.figure(figsize=(10,5))\n",
    "plt.subplot(1,2,1)\n",
    "plt.plot(epsilons,acc)\n",
    "plt.xlabel('epsilon')\n",
    "plt.ylabel('Average Accuracy')\n",
    "plt.subplot(1,2,2)\n",
    "plt.plot(epsilons,entropies)\n",
    "plt.xlabel('epsilon')\n",
    "plt.ylabel('Average predictive entropy')"
   ]
  },
  {
   "cell_type": "markdown",
   "metadata": {},
   "source": [
    "# Example attack on BayesNet"
   ]
  },
  {
   "cell_type": "code",
   "execution_count": 15,
   "metadata": {},
   "outputs": [],
   "source": [
    "model = BBBLeNet(outputs=10,inputs=1)\n",
    "ckpt_path = 'BNN_Implementations/PyTorch-BayesianCNN-master/checkpoints/MNIST/bayesian'\n",
    "ckpt_name = 'model_lenet.pt'\n",
    "model.load_state_dict(torch.load(os.path.join(homedir,ckpt_path,ckpt_name)))\n",
    "device = torch.device('cuda:0')\n",
    "model.to(device)\n",
    "loss = metrics.ELBO(len(test_loader.dataset)).to(device)"
   ]
  },
  {
   "cell_type": "code",
   "execution_count": 16,
   "metadata": {},
   "outputs": [
    {
     "data": {
      "text/plain": [
       "True"
      ]
     },
     "execution_count": 16,
     "metadata": {},
     "output_type": "execute_result"
    }
   ],
   "source": [
    "# model.train(True) => for sampling\n",
    "model.training"
   ]
  },
  {
   "cell_type": "code",
   "execution_count": 17,
   "metadata": {},
   "outputs": [
    {
     "name": "stderr",
     "output_type": "stream",
     "text": [
      "/media/bigguy/nm208/torch3/lib/python3.5/site-packages/torch/nn/_reduction.py:43: UserWarning: size_average and reduce args will be deprecated, please use reduction='mean' instead.\n",
      "  warnings.warn(warning.format(ret))\n"
     ]
    }
   ],
   "source": [
    "original_loss, original_acc =  bayes_evaluation(model, loss, test_loader)"
   ]
  },
  {
   "cell_type": "code",
   "execution_count": 18,
   "metadata": {},
   "outputs": [
    {
     "name": "stdout",
     "output_type": "stream",
     "text": [
      "0.9564\n"
     ]
    }
   ],
   "source": [
    "print (np.mean(original_acc))"
   ]
  },
  {
   "cell_type": "code",
   "execution_count": 19,
   "metadata": {},
   "outputs": [
    {
     "name": "stderr",
     "output_type": "stream",
     "text": [
      "100%|██████████| 20/20 [01:28<00:00,  4.43s/it]\n"
     ]
    }
   ],
   "source": [
    "epsilons = np.linspace(0,0.5,20)\n",
    "acc_bayes = []\n",
    "entropies_bayes = []\n",
    "for eps in tqdm(epsilons):\n",
    "    success_rate,entropy = attack_fgsm_v2(model,loss,eps,device,test_loader,is_bayes=True)\n",
    "    acc_bayes.append(success_rate)\n",
    "    entropies_bayes.append(entropy)"
   ]
  },
  {
   "cell_type": "code",
   "execution_count": 20,
   "metadata": {},
   "outputs": [
    {
     "data": {
      "text/plain": [
       "Text(0, 0.5, 'Average predictive entropy')"
      ]
     },
     "execution_count": 20,
     "metadata": {},
     "output_type": "execute_result"
    },
    {
     "data": {
      "image/png": "[encoded data removed]",
      "text/plain": [
       "<Figure size 720x360 with 2 Axes>"
      ]
     },
     "metadata": {
      "needs_background": "light"
     },
     "output_type": "display_data"
    }
   ],
   "source": [
    "plt.figure(figsize=(10,5))\n",
    "plt.subplot(1,2,1)\n",
    "plt.plot(epsilons,acc_bayes)\n",
    "plt.xlabel('epsilon')\n",
    "plt.ylabel('Attack success rate')\n",
    "plt.subplot(1,2,2)\n",
    "plt.plot(epsilons,entropies_bayes)\n",
    "plt.xlabel('epsilon')\n",
    "plt.ylabel('Average predictive entropy')"
   ]
  },
  {
   "cell_type": "markdown",
   "metadata": {},
   "source": [
    "# Compare Bayes vs. non-Bayes"
   ]
  },
  {
   "cell_type": "code",
   "execution_count": 21,
   "metadata": {},
   "outputs": [
    {
     "data": {
      "text/plain": [
       "Text(0, 0.5, 'Average predictive entropy')"
      ]
     },
     "execution_count": 21,
     "metadata": {},
     "output_type": "execute_result"
    },
    {
     "data": {
      "image/png": "[encoded data removed]",
      "text/plain": [
       "<Figure size 720x360 with 2 Axes>"
      ]
     },
     "metadata": {
      "needs_background": "light"
     },
     "output_type": "display_data"
    }
   ],
   "source": [
    "plt.figure(figsize=(10,5))\n",
    "plt.subplot(1,2,1)\n",
    "plt.plot(epsilons,acc)\n",
    "plt.plot(epsilons,acc_bayes)\n",
    "plt.legend(['Non-Bayes','Bayes'])\n",
    "plt.xlabel('epsilon')\n",
    "plt.ylabel('Accuracy')\n",
    "plt.subplot(1,2,2)\n",
    "plt.plot(epsilons,entropies)\n",
    "plt.plot(epsilons,entropies_bayes)\n",
    "plt.legend(['Non-Bayes','Bayes'])\n",
    "plt.xlabel('epsilon')\n",
    "plt.ylabel('Average predictive entropy')"
   ]
  },
  {
   "cell_type": "code",
   "execution_count": null,
   "metadata": {},
   "outputs": [],
   "source": []
  }
 ],
 "metadata": {
  "kernelspec": {
   "display_name": "Python 2",
   "language": "python",
   "name": "python2"
  },
  "language_info": {
   "codemirror_mode": {
    "name": "ipython",
    "version": 3
   },
   "file_extension": ".py",
   "mimetype": "text/x-python",
   "name": "python",
   "nbconvert_exporter": "python",
   "pygments_lexer": "ipython3",
   "version": "3.5.2"
  }
 },
 "nbformat": 4,
 "nbformat_minor": 2
}
